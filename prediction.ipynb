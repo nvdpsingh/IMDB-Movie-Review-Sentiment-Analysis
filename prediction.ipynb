{
 "cells": [
  {
   "cell_type": "code",
   "execution_count": 16,
   "id": "ae5da615",
   "metadata": {},
   "outputs": [],
   "source": [
    "from tensorflow.keras.datasets import imdb\n",
    "from tensorflow.keras.preprocessing import sequence\n",
    "from tensorflow.keras.models import load_model\n",
    "import numpy as np"
   ]
  },
  {
   "cell_type": "code",
   "execution_count": 17,
   "id": "f9b008eb",
   "metadata": {},
   "outputs": [],
   "source": [
    "#Load the IMDB dataset word index\n",
    "word_index = imdb.get_word_index()\n",
    "reverse_word_index = {value: key for key,value in word_index.items()}"
   ]
  },
  {
   "cell_type": "code",
   "execution_count": 18,
   "id": "ee8cff87",
   "metadata": {},
   "outputs": [
    {
     "name": "stderr",
     "output_type": "stream",
     "text": [
      "/Users/navdeepsingh/VS Code/env/lib/python3.12/site-packages/keras/src/saving/saving_lib.py:802: UserWarning: Skipping variable loading for optimizer 'rmsprop', because it has 8 variables whereas the saved optimizer has 14 variables. \n",
      "  saveable.load_own_variables(weights_store.get(inner_path))\n"
     ]
    },
    {
     "data": {
      "text/html": [
       "<pre style=\"white-space:pre;overflow-x:auto;line-height:normal;font-family:Menlo,'DejaVu Sans Mono',consolas,'Courier New',monospace\"><span style=\"font-weight: bold\">Model: \"sequential_4\"</span>\n",
       "</pre>\n"
      ],
      "text/plain": [
       "\u001b[1mModel: \"sequential_4\"\u001b[0m\n"
      ]
     },
     "metadata": {},
     "output_type": "display_data"
    },
    {
     "data": {
      "text/html": [
       "<pre style=\"white-space:pre;overflow-x:auto;line-height:normal;font-family:Menlo,'DejaVu Sans Mono',consolas,'Courier New',monospace\">┏━━━━━━━━━━━━━━━━━━━━━━━━━━━━━━━━━┳━━━━━━━━━━━━━━━━━━━━━━━━┳━━━━━━━━━━━━━━━┓\n",
       "┃<span style=\"font-weight: bold\"> Layer (type)                    </span>┃<span style=\"font-weight: bold\"> Output Shape           </span>┃<span style=\"font-weight: bold\">       Param # </span>┃\n",
       "┡━━━━━━━━━━━━━━━━━━━━━━━━━━━━━━━━━╇━━━━━━━━━━━━━━━━━━━━━━━━╇━━━━━━━━━━━━━━━┩\n",
       "│ embedding_3 (<span style=\"color: #0087ff; text-decoration-color: #0087ff\">Embedding</span>)         │ (<span style=\"color: #00d7ff; text-decoration-color: #00d7ff\">None</span>, <span style=\"color: #00af00; text-decoration-color: #00af00\">500</span>, <span style=\"color: #00af00; text-decoration-color: #00af00\">128</span>)       │     <span style=\"color: #00af00; text-decoration-color: #00af00\">1,280,000</span> │\n",
       "├─────────────────────────────────┼────────────────────────┼───────────────┤\n",
       "│ simple_rnn_3 (<span style=\"color: #0087ff; text-decoration-color: #0087ff\">SimpleRNN</span>)        │ (<span style=\"color: #00d7ff; text-decoration-color: #00d7ff\">None</span>, <span style=\"color: #00af00; text-decoration-color: #00af00\">128</span>)            │        <span style=\"color: #00af00; text-decoration-color: #00af00\">32,896</span> │\n",
       "├─────────────────────────────────┼────────────────────────┼───────────────┤\n",
       "│ dense_3 (<span style=\"color: #0087ff; text-decoration-color: #0087ff\">Dense</span>)                 │ (<span style=\"color: #00d7ff; text-decoration-color: #00d7ff\">None</span>, <span style=\"color: #00af00; text-decoration-color: #00af00\">1</span>)              │           <span style=\"color: #00af00; text-decoration-color: #00af00\">129</span> │\n",
       "└─────────────────────────────────┴────────────────────────┴───────────────┘\n",
       "</pre>\n"
      ],
      "text/plain": [
       "┏━━━━━━━━━━━━━━━━━━━━━━━━━━━━━━━━━┳━━━━━━━━━━━━━━━━━━━━━━━━┳━━━━━━━━━━━━━━━┓\n",
       "┃\u001b[1m \u001b[0m\u001b[1mLayer (type)                   \u001b[0m\u001b[1m \u001b[0m┃\u001b[1m \u001b[0m\u001b[1mOutput Shape          \u001b[0m\u001b[1m \u001b[0m┃\u001b[1m \u001b[0m\u001b[1m      Param #\u001b[0m\u001b[1m \u001b[0m┃\n",
       "┡━━━━━━━━━━━━━━━━━━━━━━━━━━━━━━━━━╇━━━━━━━━━━━━━━━━━━━━━━━━╇━━━━━━━━━━━━━━━┩\n",
       "│ embedding_3 (\u001b[38;5;33mEmbedding\u001b[0m)         │ (\u001b[38;5;45mNone\u001b[0m, \u001b[38;5;34m500\u001b[0m, \u001b[38;5;34m128\u001b[0m)       │     \u001b[38;5;34m1,280,000\u001b[0m │\n",
       "├─────────────────────────────────┼────────────────────────┼───────────────┤\n",
       "│ simple_rnn_3 (\u001b[38;5;33mSimpleRNN\u001b[0m)        │ (\u001b[38;5;45mNone\u001b[0m, \u001b[38;5;34m128\u001b[0m)            │        \u001b[38;5;34m32,896\u001b[0m │\n",
       "├─────────────────────────────────┼────────────────────────┼───────────────┤\n",
       "│ dense_3 (\u001b[38;5;33mDense\u001b[0m)                 │ (\u001b[38;5;45mNone\u001b[0m, \u001b[38;5;34m1\u001b[0m)              │           \u001b[38;5;34m129\u001b[0m │\n",
       "└─────────────────────────────────┴────────────────────────┴───────────────┘\n"
      ]
     },
     "metadata": {},
     "output_type": "display_data"
    },
    {
     "data": {
      "text/html": [
       "<pre style=\"white-space:pre;overflow-x:auto;line-height:normal;font-family:Menlo,'DejaVu Sans Mono',consolas,'Courier New',monospace\"><span style=\"font-weight: bold\"> Total params: </span><span style=\"color: #00af00; text-decoration-color: #00af00\">2,626,052</span> (10.02 MB)\n",
       "</pre>\n"
      ],
      "text/plain": [
       "\u001b[1m Total params: \u001b[0m\u001b[38;5;34m2,626,052\u001b[0m (10.02 MB)\n"
      ]
     },
     "metadata": {},
     "output_type": "display_data"
    },
    {
     "data": {
      "text/html": [
       "<pre style=\"white-space:pre;overflow-x:auto;line-height:normal;font-family:Menlo,'DejaVu Sans Mono',consolas,'Courier New',monospace\"><span style=\"font-weight: bold\"> Trainable params: </span><span style=\"color: #00af00; text-decoration-color: #00af00\">1,313,025</span> (5.01 MB)\n",
       "</pre>\n"
      ],
      "text/plain": [
       "\u001b[1m Trainable params: \u001b[0m\u001b[38;5;34m1,313,025\u001b[0m (5.01 MB)\n"
      ]
     },
     "metadata": {},
     "output_type": "display_data"
    },
    {
     "data": {
      "text/html": [
       "<pre style=\"white-space:pre;overflow-x:auto;line-height:normal;font-family:Menlo,'DejaVu Sans Mono',consolas,'Courier New',monospace\"><span style=\"font-weight: bold\"> Non-trainable params: </span><span style=\"color: #00af00; text-decoration-color: #00af00\">0</span> (0.00 B)\n",
       "</pre>\n"
      ],
      "text/plain": [
       "\u001b[1m Non-trainable params: \u001b[0m\u001b[38;5;34m0\u001b[0m (0.00 B)\n"
      ]
     },
     "metadata": {},
     "output_type": "display_data"
    },
    {
     "data": {
      "text/html": [
       "<pre style=\"white-space:pre;overflow-x:auto;line-height:normal;font-family:Menlo,'DejaVu Sans Mono',consolas,'Courier New',monospace\"><span style=\"font-weight: bold\"> Optimizer params: </span><span style=\"color: #00af00; text-decoration-color: #00af00\">1,313,027</span> (5.01 MB)\n",
       "</pre>\n"
      ],
      "text/plain": [
       "\u001b[1m Optimizer params: \u001b[0m\u001b[38;5;34m1,313,027\u001b[0m (5.01 MB)\n"
      ]
     },
     "metadata": {},
     "output_type": "display_data"
    }
   ],
   "source": [
    "model = load_model('simple_rnn_imdb.keras')\n",
    "model.summary()"
   ]
  },
  {
   "cell_type": "code",
   "execution_count": 19,
   "id": "8cc5318e",
   "metadata": {},
   "outputs": [
    {
     "data": {
      "text/plain": [
       "[array([[-0.17469044, -0.05263637, -0.18886574, ..., -0.1504061 ,\n",
       "         -0.10644605, -0.17771597],\n",
       "        [-0.04959109,  0.00636564, -0.01701316, ...,  0.0659679 ,\n",
       "          0.03368418,  0.01078517],\n",
       "        [ 0.02004134,  0.1002472 ,  0.11530171, ...,  0.11173871,\n",
       "          0.00780739,  0.0413189 ],\n",
       "        ...,\n",
       "        [ 0.05404845, -0.02642141, -0.01635623, ...,  0.03718193,\n",
       "         -0.04055816, -0.00658578],\n",
       "        [-0.0223265 ,  0.07948224,  0.04331109, ...,  0.02637514,\n",
       "          0.03470701,  0.01732586],\n",
       "        [ 0.04007541, -0.08108139, -0.05985603, ..., -0.04383172,\n",
       "         -0.06901519, -0.09585742]], dtype=float32),\n",
       " array([[-0.01414207, -0.01261738, -0.08303169, ..., -0.02837583,\n",
       "         -0.06030209,  0.14644082],\n",
       "        [-0.0640991 ,  0.00846356,  0.03317623, ...,  0.0224694 ,\n",
       "          0.02750357,  0.04970115],\n",
       "        [ 0.00231266, -0.07413384,  0.1821641 , ..., -0.12397456,\n",
       "          0.04973974, -0.05791929],\n",
       "        ...,\n",
       "        [-0.20223449, -0.02279562,  0.11000486, ..., -0.08460722,\n",
       "         -0.01941342,  0.06153951],\n",
       "        [-0.05782514, -0.04888131,  0.15345049, ...,  0.11419532,\n",
       "          0.07008867,  0.0893198 ],\n",
       "        [-0.00315355,  0.05102787,  0.05393126, ...,  0.1398914 ,\n",
       "         -0.04497383, -0.11117297]], dtype=float32),\n",
       " array([[ 0.11931413,  0.07913618, -0.13207044, ...,  0.04206156,\n",
       "         -0.29026508, -0.07833809],\n",
       "        [ 0.1605596 , -0.06785733, -0.10923187, ..., -0.07143593,\n",
       "         -0.09510898,  0.09233692],\n",
       "        [-0.16954759,  0.0411115 , -0.06138995, ..., -0.0606121 ,\n",
       "         -0.14621867, -0.1401156 ],\n",
       "        ...,\n",
       "        [-0.11145686, -0.01360319,  0.10453145, ...,  0.0810223 ,\n",
       "          0.04271697, -0.13523738],\n",
       "        [ 0.16348432, -0.11478136,  0.0104579 , ...,  0.07161998,\n",
       "          0.07444099,  0.02643682],\n",
       "        [-0.17993641,  0.08127204, -0.0946354 , ..., -0.05734458,\n",
       "         -0.06916395, -0.00846765]], dtype=float32),\n",
       " array([ 0.00732496, -0.00118418,  0.00019383, -0.02164932, -0.01874217,\n",
       "        -0.03270391,  0.01625868, -0.03920048,  0.00814631, -0.00449857,\n",
       "        -0.01289375,  0.0060892 , -0.00010696,  0.00657321, -0.0299068 ,\n",
       "         0.00319478,  0.02573111,  0.0016535 ,  0.01123489,  0.01533775,\n",
       "        -0.02854384,  0.00485081,  0.00028217, -0.02217112, -0.03927066,\n",
       "        -0.017669  ,  0.00945971, -0.01207839, -0.00774721, -0.04041639,\n",
       "        -0.01007318,  0.01294297,  0.03189998,  0.01788233,  0.02562629,\n",
       "         0.01287902, -0.01154164,  0.01485931, -0.02590923, -0.04738567,\n",
       "         0.00983086, -0.04114888, -0.03436653,  0.0145593 ,  0.01214468,\n",
       "         0.01149221, -0.01544167,  0.00557782, -0.01005165, -0.01928765,\n",
       "        -0.02821778, -0.02219868, -0.01495821, -0.0211227 ,  0.00354419,\n",
       "         0.01907664, -0.0174691 , -0.01909559,  0.00362974, -0.00151333,\n",
       "        -0.017189  ,  0.01707274,  0.02267829, -0.0418331 , -0.00584825,\n",
       "        -0.02312895, -0.0034028 , -0.02160469,  0.01438503, -0.01350068,\n",
       "        -0.00093776,  0.02403704,  0.00218627,  0.0111931 ,  0.01155887,\n",
       "        -0.01301822,  0.01768234, -0.02383289,  0.02272165, -0.03132075,\n",
       "        -0.01749706, -0.02043642, -0.00984595, -0.01383178,  0.01382682,\n",
       "         0.00133461, -0.02025777, -0.01958579,  0.02163426,  0.02096015,\n",
       "        -0.00258692,  0.01281694,  0.00425871, -0.02219275, -0.01805257,\n",
       "        -0.01103524,  0.01214852, -0.02484302, -0.01771198, -0.00339418,\n",
       "         0.01205877, -0.02531361,  0.03059843, -0.0300479 ,  0.01805108,\n",
       "         0.07691041,  0.01845119, -0.01259207, -0.01292523,  0.01553307,\n",
       "         0.03772213, -0.01242881, -0.02093789, -0.0143651 ,  0.02387937,\n",
       "        -0.02211364,  0.02018265, -0.01600415,  0.01759358,  0.01843435,\n",
       "        -0.0291213 , -0.00480616, -0.00569168,  0.01453604, -0.01771637,\n",
       "        -0.03245897, -0.01148695, -0.01953038], dtype=float32),\n",
       " array([[ 0.44064733],\n",
       "        [-0.19553128],\n",
       "        [ 0.22771539],\n",
       "        [ 0.43714198],\n",
       "        [ 0.29947135],\n",
       "        [ 0.00643236],\n",
       "        [ 0.24928537],\n",
       "        [-0.04722151],\n",
       "        [-0.22794947],\n",
       "        [-0.17936587],\n",
       "        [ 0.24582739],\n",
       "        [-0.23847814],\n",
       "        [ 0.04076542],\n",
       "        [ 0.01992878],\n",
       "        [-0.13981631],\n",
       "        [ 0.19106539],\n",
       "        [-0.1812374 ],\n",
       "        [-0.20536996],\n",
       "        [-0.09551206],\n",
       "        [ 0.10796667],\n",
       "        [-0.16041978],\n",
       "        [ 0.25408167],\n",
       "        [-0.1079882 ],\n",
       "        [-0.4155503 ],\n",
       "        [-0.01566468],\n",
       "        [-0.29755548],\n",
       "        [ 0.00449618],\n",
       "        [ 0.09307147],\n",
       "        [ 0.23996672],\n",
       "        [ 0.00518226],\n",
       "        [ 0.21654786],\n",
       "        [ 0.3995123 ],\n",
       "        [ 0.09883687],\n",
       "        [ 0.01058123],\n",
       "        [-0.08137821],\n",
       "        [ 0.44334805],\n",
       "        [ 0.07602651],\n",
       "        [-0.04268858],\n",
       "        [ 0.25487834],\n",
       "        [-0.10611433],\n",
       "        [-0.17345405],\n",
       "        [-0.02123602],\n",
       "        [ 0.0699409 ],\n",
       "        [ 0.02358527],\n",
       "        [-0.13921086],\n",
       "        [ 0.41129532],\n",
       "        [ 0.44455993],\n",
       "        [-0.0437014 ],\n",
       "        [-0.04613606],\n",
       "        [ 0.19696365],\n",
       "        [ 0.16765451],\n",
       "        [ 0.1579851 ],\n",
       "        [ 0.45519644],\n",
       "        [ 0.02717107],\n",
       "        [-0.24517004],\n",
       "        [ 0.19557914],\n",
       "        [ 0.1132718 ],\n",
       "        [-0.0283091 ],\n",
       "        [-0.7217787 ],\n",
       "        [ 0.19497737],\n",
       "        [ 0.14986877],\n",
       "        [ 0.28156275],\n",
       "        [ 0.05326188],\n",
       "        [ 0.23228525],\n",
       "        [ 0.21887593],\n",
       "        [ 0.16078216],\n",
       "        [ 0.18986604],\n",
       "        [-0.16726263],\n",
       "        [-0.16426122],\n",
       "        [ 0.1230498 ],\n",
       "        [ 0.02415812],\n",
       "        [ 0.1658849 ],\n",
       "        [ 0.06140712],\n",
       "        [ 0.00859353],\n",
       "        [ 0.01292383],\n",
       "        [ 0.12987825],\n",
       "        [-0.16893713],\n",
       "        [ 0.27316377],\n",
       "        [-0.21075845],\n",
       "        [ 0.01667965],\n",
       "        [ 0.05638951],\n",
       "        [-0.0933165 ],\n",
       "        [-0.0029041 ],\n",
       "        [-0.36936134],\n",
       "        [ 0.33197   ],\n",
       "        [ 0.15981573],\n",
       "        [ 0.06502856],\n",
       "        [-0.33455515],\n",
       "        [-0.15148684],\n",
       "        [ 0.1227156 ],\n",
       "        [ 0.20140404],\n",
       "        [-0.05406643],\n",
       "        [ 0.0162758 ],\n",
       "        [ 0.07306035],\n",
       "        [ 0.18668635],\n",
       "        [ 0.3540746 ],\n",
       "        [ 0.52040714],\n",
       "        [-0.02024112],\n",
       "        [ 0.08777488],\n",
       "        [ 0.7432199 ],\n",
       "        [-0.04802569],\n",
       "        [-0.75145644],\n",
       "        [ 0.19795987],\n",
       "        [-0.03456693],\n",
       "        [-0.29949886],\n",
       "        [ 0.27480865],\n",
       "        [-0.19176804],\n",
       "        [ 0.29005334],\n",
       "        [-0.19367328],\n",
       "        [-0.23078495],\n",
       "        [-0.19768655],\n",
       "        [ 0.21570802],\n",
       "        [-0.35852283],\n",
       "        [-0.20525062],\n",
       "        [-0.17866111],\n",
       "        [-0.16819797],\n",
       "        [-0.1902374 ],\n",
       "        [ 0.2836055 ],\n",
       "        [-0.0619577 ],\n",
       "        [-0.11928421],\n",
       "        [-0.01222164],\n",
       "        [ 0.33092907],\n",
       "        [-0.55896   ],\n",
       "        [ 0.00507154],\n",
       "        [ 0.16594806],\n",
       "        [ 0.02961327],\n",
       "        [-0.4239949 ],\n",
       "        [-0.0711233 ]], dtype=float32),\n",
       " array([0.2657733], dtype=float32)]"
      ]
     },
     "execution_count": 19,
     "metadata": {},
     "output_type": "execute_result"
    }
   ],
   "source": [
    "model.get_weights()"
   ]
  },
  {
   "cell_type": "code",
   "execution_count": 20,
   "id": "5b4daf31",
   "metadata": {},
   "outputs": [],
   "source": [
    "#Helper Functions\n",
    "# Functions to decode reviews\n",
    "def decode_review(encoded_review):\n",
    "    return \" \".join([reverse_word_index.get(i-3,'?') for i in encoded_review])\n",
    "\n",
    "#Function to proprocess the user input\n",
    "def preprocess_text(text):\n",
    "    words = text.lower().split()\n",
    "    encoded_review = [word_index.get(word,2) + 3 for word in words]\n",
    "    padded_review = sequence.pad_sequences([encoded_review],maxlen = 500)\n",
    "    return padded_review"
   ]
  },
  {
   "cell_type": "code",
   "execution_count": 21,
   "id": "7f33ba44",
   "metadata": {},
   "outputs": [],
   "source": [
    "##Prediction Function\n",
    "\n",
    "def predict_sentiment(review):\n",
    "    preprocessed_input = preprocess_text(review)\n",
    "\n",
    "    prediction = model.predict(preprocessed_input)\n",
    "    sentiment = \"Positive\" if prediction[0][0] > 0.5 else 'Negative'\n",
    "    \n",
    "    return sentiment, prediction[0][0]"
   ]
  },
  {
   "cell_type": "code",
   "execution_count": 24,
   "id": "70b337cf",
   "metadata": {},
   "outputs": [
    {
     "name": "stdout",
     "output_type": "stream",
     "text": [
      "\u001b[1m1/1\u001b[0m \u001b[32m━━━━━━━━━━━━━━━━━━━━\u001b[0m\u001b[37m\u001b[0m \u001b[1m0s\u001b[0m 30ms/step\n",
      "Review : This movie was fantastic! The acting was great and the plot was thrilling.\n",
      "Sentiment : Positive\n",
      "Prediction Score : 0.5743235945701599\n"
     ]
    }
   ],
   "source": [
    "##Example review for prediction\n",
    "example_review = \"This movie was fantastic! The acting was great and the plot was thrilling.\"\n",
    "\n",
    "sentiment,score = predict_sentiment(example_review)\n",
    "\n",
    "print(f'Review : {example_review}')\n",
    "print(f'Sentiment : {sentiment}')\n",
    "print(f'Prediction Score : {score}')"
   ]
  },
  {
   "cell_type": "code",
   "execution_count": null,
   "id": "8a383446",
   "metadata": {},
   "outputs": [],
   "source": []
  }
 ],
 "metadata": {
  "kernelspec": {
   "display_name": "env",
   "language": "python",
   "name": "python3"
  },
  "language_info": {
   "codemirror_mode": {
    "name": "ipython",
    "version": 3
   },
   "file_extension": ".py",
   "mimetype": "text/x-python",
   "name": "python",
   "nbconvert_exporter": "python",
   "pygments_lexer": "ipython3",
   "version": "3.12.4"
  }
 },
 "nbformat": 4,
 "nbformat_minor": 5
}
